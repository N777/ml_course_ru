{
 "cells": [
  {
   "cell_type": "code",
   "execution_count": 1,
   "metadata": {
    "collapsed": true,
    "pycharm": {
     "name": "#%%\n"
    }
   },
   "outputs": [],
   "source": [
    "import matplotlib.pyplot as plt\n",
    "import numpy as np\n",
    "import pandas as pd\n",
    "from sklearn import preprocessing\n",
    "from sklearn.metrics import r2_score"
   ]
  },
  {
   "cell_type": "code",
   "execution_count": 3,
   "outputs": [
    {
     "data": {
      "text/plain": "               0           1           2           3           4           5   \\\ncount  360.000000  360.000000  360.000000  360.000000  360.000000  360.000000   \nmean     0.566613    0.555967    0.566377    0.555478    0.565640    0.554552   \nstd      0.198916    0.187485    0.198306    0.187320    0.197863    0.187066   \nmin      0.090909    0.148150    0.085106    0.148150    0.085106    0.148150   \n25%      0.444875    0.407410    0.440043    0.409720    0.438588    0.407410   \n50%      0.585105    0.581020    0.585105    0.582175    0.582205    0.582175   \n75%      0.720023    0.724540    0.721952    0.720488    0.720505    0.722220   \nmax      0.932300    0.886570    0.930370    0.888890    0.932300    0.884260   \n\n               6           7           8           9   ...          81  \\\ncount  360.000000  360.000000  360.000000  360.000000  ...  360.000000   \nmean     0.564867    0.552855    0.563094    0.548579  ...    0.474814   \nstd      0.195968    0.186777    0.192667    0.185901  ...    0.172685   \nmin      0.088975    0.145830    0.092843    0.145830  ...    0.076389   \n25%      0.437140    0.409720    0.435688    0.409720  ...    0.354170   \n50%      0.579305    0.564815    0.572535    0.556715  ...    0.486110   \n75%      0.720023    0.718170    0.714215    0.719910  ...    0.597800   \nmax      0.932300    0.881940    0.932300    0.875000  ...    0.831020   \n\n               82          83          84          85          86          87  \\\ncount  360.000000  360.000000  360.000000  360.000000  360.000000  360.000000   \nmean     0.487229    0.469181    0.488287    0.464905    0.490259    0.463760   \nstd      0.209880    0.174674    0.213416    0.178629    0.218753    0.184384   \nmin      0.059961    0.050926    0.029014    0.030093    0.011605    0.009259   \n25%      0.327370    0.346642    0.329785    0.342590    0.319630    0.332753   \n50%      0.481620    0.483800    0.474855    0.483800    0.479690    0.482640   \n75%      0.654737    0.594910    0.656675    0.592590    0.667310    0.608800   \nmax      0.970990    0.819440    0.978720    0.824070    0.988390    0.872690   \n\n               88          89          90  \ncount  360.000000  360.000000  360.000000  \nmean     0.492376    0.463767    8.000000  \nstd      0.225507    0.190831    4.326507  \nmin      0.005803    0.006944    1.000000  \n25%      0.313350    0.328122    4.000000  \n50%      0.487430    0.488430    8.000000  \n75%      0.671663    0.615740   12.000000  \nmax      1.000000    0.884260   15.000000  \n\n[8 rows x 91 columns]",
      "text/html": "<div>\n<style scoped>\n    .dataframe tbody tr th:only-of-type {\n        vertical-align: middle;\n    }\n\n    .dataframe tbody tr th {\n        vertical-align: top;\n    }\n\n    .dataframe thead th {\n        text-align: right;\n    }\n</style>\n<table border=\"1\" class=\"dataframe\">\n  <thead>\n    <tr style=\"text-align: right;\">\n      <th></th>\n      <th>0</th>\n      <th>1</th>\n      <th>2</th>\n      <th>3</th>\n      <th>4</th>\n      <th>5</th>\n      <th>6</th>\n      <th>7</th>\n      <th>8</th>\n      <th>9</th>\n      <th>...</th>\n      <th>81</th>\n      <th>82</th>\n      <th>83</th>\n      <th>84</th>\n      <th>85</th>\n      <th>86</th>\n      <th>87</th>\n      <th>88</th>\n      <th>89</th>\n      <th>90</th>\n    </tr>\n  </thead>\n  <tbody>\n    <tr>\n      <th>count</th>\n      <td>360.000000</td>\n      <td>360.000000</td>\n      <td>360.000000</td>\n      <td>360.000000</td>\n      <td>360.000000</td>\n      <td>360.000000</td>\n      <td>360.000000</td>\n      <td>360.000000</td>\n      <td>360.000000</td>\n      <td>360.000000</td>\n      <td>...</td>\n      <td>360.000000</td>\n      <td>360.000000</td>\n      <td>360.000000</td>\n      <td>360.000000</td>\n      <td>360.000000</td>\n      <td>360.000000</td>\n      <td>360.000000</td>\n      <td>360.000000</td>\n      <td>360.000000</td>\n      <td>360.000000</td>\n    </tr>\n    <tr>\n      <th>mean</th>\n      <td>0.566613</td>\n      <td>0.555967</td>\n      <td>0.566377</td>\n      <td>0.555478</td>\n      <td>0.565640</td>\n      <td>0.554552</td>\n      <td>0.564867</td>\n      <td>0.552855</td>\n      <td>0.563094</td>\n      <td>0.548579</td>\n      <td>...</td>\n      <td>0.474814</td>\n      <td>0.487229</td>\n      <td>0.469181</td>\n      <td>0.488287</td>\n      <td>0.464905</td>\n      <td>0.490259</td>\n      <td>0.463760</td>\n      <td>0.492376</td>\n      <td>0.463767</td>\n      <td>8.000000</td>\n    </tr>\n    <tr>\n      <th>std</th>\n      <td>0.198916</td>\n      <td>0.187485</td>\n      <td>0.198306</td>\n      <td>0.187320</td>\n      <td>0.197863</td>\n      <td>0.187066</td>\n      <td>0.195968</td>\n      <td>0.186777</td>\n      <td>0.192667</td>\n      <td>0.185901</td>\n      <td>...</td>\n      <td>0.172685</td>\n      <td>0.209880</td>\n      <td>0.174674</td>\n      <td>0.213416</td>\n      <td>0.178629</td>\n      <td>0.218753</td>\n      <td>0.184384</td>\n      <td>0.225507</td>\n      <td>0.190831</td>\n      <td>4.326507</td>\n    </tr>\n    <tr>\n      <th>min</th>\n      <td>0.090909</td>\n      <td>0.148150</td>\n      <td>0.085106</td>\n      <td>0.148150</td>\n      <td>0.085106</td>\n      <td>0.148150</td>\n      <td>0.088975</td>\n      <td>0.145830</td>\n      <td>0.092843</td>\n      <td>0.145830</td>\n      <td>...</td>\n      <td>0.076389</td>\n      <td>0.059961</td>\n      <td>0.050926</td>\n      <td>0.029014</td>\n      <td>0.030093</td>\n      <td>0.011605</td>\n      <td>0.009259</td>\n      <td>0.005803</td>\n      <td>0.006944</td>\n      <td>1.000000</td>\n    </tr>\n    <tr>\n      <th>25%</th>\n      <td>0.444875</td>\n      <td>0.407410</td>\n      <td>0.440043</td>\n      <td>0.409720</td>\n      <td>0.438588</td>\n      <td>0.407410</td>\n      <td>0.437140</td>\n      <td>0.409720</td>\n      <td>0.435688</td>\n      <td>0.409720</td>\n      <td>...</td>\n      <td>0.354170</td>\n      <td>0.327370</td>\n      <td>0.346642</td>\n      <td>0.329785</td>\n      <td>0.342590</td>\n      <td>0.319630</td>\n      <td>0.332753</td>\n      <td>0.313350</td>\n      <td>0.328122</td>\n      <td>4.000000</td>\n    </tr>\n    <tr>\n      <th>50%</th>\n      <td>0.585105</td>\n      <td>0.581020</td>\n      <td>0.585105</td>\n      <td>0.582175</td>\n      <td>0.582205</td>\n      <td>0.582175</td>\n      <td>0.579305</td>\n      <td>0.564815</td>\n      <td>0.572535</td>\n      <td>0.556715</td>\n      <td>...</td>\n      <td>0.486110</td>\n      <td>0.481620</td>\n      <td>0.483800</td>\n      <td>0.474855</td>\n      <td>0.483800</td>\n      <td>0.479690</td>\n      <td>0.482640</td>\n      <td>0.487430</td>\n      <td>0.488430</td>\n      <td>8.000000</td>\n    </tr>\n    <tr>\n      <th>75%</th>\n      <td>0.720023</td>\n      <td>0.724540</td>\n      <td>0.721952</td>\n      <td>0.720488</td>\n      <td>0.720505</td>\n      <td>0.722220</td>\n      <td>0.720023</td>\n      <td>0.718170</td>\n      <td>0.714215</td>\n      <td>0.719910</td>\n      <td>...</td>\n      <td>0.597800</td>\n      <td>0.654737</td>\n      <td>0.594910</td>\n      <td>0.656675</td>\n      <td>0.592590</td>\n      <td>0.667310</td>\n      <td>0.608800</td>\n      <td>0.671663</td>\n      <td>0.615740</td>\n      <td>12.000000</td>\n    </tr>\n    <tr>\n      <th>max</th>\n      <td>0.932300</td>\n      <td>0.886570</td>\n      <td>0.930370</td>\n      <td>0.888890</td>\n      <td>0.932300</td>\n      <td>0.884260</td>\n      <td>0.932300</td>\n      <td>0.881940</td>\n      <td>0.932300</td>\n      <td>0.875000</td>\n      <td>...</td>\n      <td>0.831020</td>\n      <td>0.970990</td>\n      <td>0.819440</td>\n      <td>0.978720</td>\n      <td>0.824070</td>\n      <td>0.988390</td>\n      <td>0.872690</td>\n      <td>1.000000</td>\n      <td>0.884260</td>\n      <td>15.000000</td>\n    </tr>\n  </tbody>\n</table>\n<p>8 rows × 91 columns</p>\n</div>"
     },
     "execution_count": 3,
     "metadata": {},
     "output_type": "execute_result"
    }
   ],
   "source": [
    "with open(\"movement_libras.data\") as file:\n",
    "    data = pd.read_csv(file, header=None)\n",
    "data.describe()"
   ],
   "metadata": {
    "collapsed": false,
    "pycharm": {
     "name": "#%%\n"
    }
   }
  },
  {
   "cell_type": "code",
   "execution_count": 4,
   "outputs": [],
   "source": [
    "diabetes_X, diabetes_y = data.iloc[:, 0:89], np.array(data.iloc[:, 90])"
   ],
   "metadata": {
    "collapsed": false,
    "pycharm": {
     "name": "#%%\n"
    }
   }
  },
  {
   "cell_type": "code",
   "execution_count": 5,
   "outputs": [],
   "source": [
    "diabetes_X = np.array(diabetes_X)\n",
    "scaler = preprocessing.MinMaxScaler()\n",
    "scaled_df = scaler.fit_transform(diabetes_X)"
   ],
   "metadata": {
    "collapsed": false,
    "pycharm": {
     "name": "#%%\n"
    }
   }
  },
  {
   "cell_type": "code",
   "execution_count": 6,
   "outputs": [],
   "source": [
    "diabetes_X_train = scaled_df[:-100]\n",
    "diabetes_X_test = scaled_df[-100:]\n",
    "diabetes_y_train = diabetes_y[:-100]\n",
    "diabetes_y_test = diabetes_y[-100:]"
   ],
   "metadata": {
    "collapsed": false,
    "pycharm": {
     "name": "#%%\n"
    }
   }
  },
  {
   "cell_type": "code",
   "execution_count": null,
   "outputs": [],
   "source": [],
   "metadata": {
    "collapsed": false,
    "pycharm": {
     "name": "#%%\n"
    }
   }
  }
 ],
 "metadata": {
  "kernelspec": {
   "display_name": "Python 3",
   "language": "python",
   "name": "python3"
  },
  "language_info": {
   "codemirror_mode": {
    "name": "ipython",
    "version": 2
   },
   "file_extension": ".py",
   "mimetype": "text/x-python",
   "name": "python",
   "nbconvert_exporter": "python",
   "pygments_lexer": "ipython2",
   "version": "2.7.6"
  }
 },
 "nbformat": 4,
 "nbformat_minor": 0
}