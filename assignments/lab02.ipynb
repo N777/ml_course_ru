{
 "cells": [
  {
   "cell_type": "markdown",
   "source": [
    "# Задание на лабораторную работу №2. Pandas и основы python\n",
    "## Общее задание\n",
    "1. Сгенерировать с использованием библиотеки pandas csv файл, содержащий 3 столбца: $x_1$, $x_2$, $y$ (> 400 строк, генерация с использованием функции linspace). Вид функции определяется вариантом (диапазон выбирается студентом).\n",
    "2. Открыть файл с использованием библиотеки pandas и построить графики: $y(x_1)$ ($x_2$ - константа), $y(x_2)$  ($x_1$ - константа). Графики необходимо построить с использованием matplotlib (для функции y отобразить точки на графике).\n",
    "3. Вывести для каждого столбца $(x_1, x_2, y)$: среднее, минимальное и максимальное значения.\n",
    "4. Сохранить в новый csv файл те строки, для которых выполняется условие: $x_1$ меньше среднее $x_1$ или $x_2$ меньше среднее $x_2$\n",
    "5. С использованием mplot3D построить 3D график функции $y(x_1, x_2)$ в отдельном окне.\n",
    "\n",
    "## Варианты\n",
    "1. $y = sin(x_1 + x_2)$\n",
    "2. $y = cos(x_1 + x_2)$\n",
    "3. $y = tan(x_1 + x_2) * sin(x_1)$\n",
    "4. $y = 2 * x_1^2 + 3x_2^2$\n",
    "5. $y = 5 * log(x_1) * log(2 * x_2)$\n",
    "6. $y = 5 * log(x_1) * x_2^2$\n",
    "7. $y = cos(x_1) * x_2^3$\n",
    "8. $y = \\frac{3}{(2 + e^{-2x})}$\n",
    "9. $y = cos(x_1 + x_2) * x_2 ^ 2$\n",
    "10. $y = \\frac{x_2}{(1 + e^{-x_1})}$\n",
    "11. $y = \\frac{3 * x_1}{(1 - e^{-x_2})}$\n",
    "12. $y = 0.01 * tan(x_1) * x_2^2$\n",
    "13. $y = x_1^6 + x_2^2 + x_1^3 + 4x_2 + 5$\n",
    "14. $y = cos(x_1) * x_2^3$\n",
    "15. $y = tan(x_1) * ctg(x_2)$\n",
    "16. $y = \\frac{sin(x_1)}{(1 + e^{-2x_2})}$\n",
    "17. $y = \\frac{cos(x_1)}{(1 + e^{-2x_1})}$\n",
    "18. $y = \\frac{tan(x_1)}{(3 + e^{-2x_2})}$\n",
    "19. $y = \\frac{ctg(x_1)}{(2 + e^{-2x_2})}$\n",
    "20. $y = \\frac{x_1^2}{(1 + e^{-2x_2})}$\n"
   ],
   "metadata": {
    "collapsed": false,
    "pycharm": {
     "name": "#%% md\n"
    }
   }
  },
  {
   "cell_type": "code",
   "execution_count": 30,
   "outputs": [],
   "source": [
    "import numpy as np\n",
    "import matplotlib.pyplot as plt\n",
    "import pandas as pd"
   ],
   "metadata": {
    "collapsed": false,
    "pycharm": {
     "name": "#%%\n"
    }
   }
  },
  {
   "cell_type": "code",
   "execution_count": 31,
   "outputs": [
    {
     "name": "stderr",
     "output_type": "stream",
     "text": [
      "C:\\Users\\Ved\\AppData\\Local\\pypoetry\\Cache\\virtualenvs\\ml-course-ru-LtUHDCLA-py3.10\\lib\\site-packages\\pandas\\core\\arraylike.py:402: RuntimeWarning: divide by zero encountered in log\n",
      "  result = getattr(ufunc, method)(*inputs, **kwargs)\n"
     ]
    },
    {
     "data": {
      "text/plain": "           x1        x2          y\n0    0.000000  0.000000        NaN\n1    1.002004  0.060120   0.000036\n2    2.004008  0.120240   0.050252\n3    3.006012  0.180361   0.179015\n4    4.008016  0.240481   0.401433\n5    5.010020  0.300601   0.728057\n6    6.012024  0.360721   1.167021\n7    7.014028  0.420842   1.724951\n8    8.016032  0.480962   2.407443\n9    9.018036  0.541082   3.219337\n10  10.020040  0.601202   4.164900\n11  11.022044  0.661323   5.247947\n12  12.024048  0.721443   6.471929\n13  13.026052  0.781563   7.839995\n14  14.028056  0.841683   9.355040\n15  15.030060  0.901804  11.019746\n16  16.032064  0.961924  12.836609\n17  17.034068  1.022044  14.807963\n18  18.036072  1.082164  16.936000\n19  19.038076  1.142285  19.222788\n20  20.040080  1.202405  21.670281\n21  21.042084  1.262525  24.280335\n22  22.044088  1.322645  27.054714\n23  23.046092  1.382766  29.995099\n24  24.048096  1.442886  33.103099\n25  25.050100  1.503006  36.380251\n26  26.052104  1.563126  39.828032\n27  27.054108  1.623246  43.447859\n28  28.056112  1.683367  47.241098\n29  29.058116  1.743487  51.209062",
      "text/html": "<div>\n<style scoped>\n    .dataframe tbody tr th:only-of-type {\n        vertical-align: middle;\n    }\n\n    .dataframe tbody tr th {\n        vertical-align: top;\n    }\n\n    .dataframe thead th {\n        text-align: right;\n    }\n</style>\n<table border=\"1\" class=\"dataframe\">\n  <thead>\n    <tr style=\"text-align: right;\">\n      <th></th>\n      <th>x1</th>\n      <th>x2</th>\n      <th>y</th>\n    </tr>\n  </thead>\n  <tbody>\n    <tr>\n      <th>0</th>\n      <td>0.000000</td>\n      <td>0.000000</td>\n      <td>NaN</td>\n    </tr>\n    <tr>\n      <th>1</th>\n      <td>1.002004</td>\n      <td>0.060120</td>\n      <td>0.000036</td>\n    </tr>\n    <tr>\n      <th>2</th>\n      <td>2.004008</td>\n      <td>0.120240</td>\n      <td>0.050252</td>\n    </tr>\n    <tr>\n      <th>3</th>\n      <td>3.006012</td>\n      <td>0.180361</td>\n      <td>0.179015</td>\n    </tr>\n    <tr>\n      <th>4</th>\n      <td>4.008016</td>\n      <td>0.240481</td>\n      <td>0.401433</td>\n    </tr>\n    <tr>\n      <th>5</th>\n      <td>5.010020</td>\n      <td>0.300601</td>\n      <td>0.728057</td>\n    </tr>\n    <tr>\n      <th>6</th>\n      <td>6.012024</td>\n      <td>0.360721</td>\n      <td>1.167021</td>\n    </tr>\n    <tr>\n      <th>7</th>\n      <td>7.014028</td>\n      <td>0.420842</td>\n      <td>1.724951</td>\n    </tr>\n    <tr>\n      <th>8</th>\n      <td>8.016032</td>\n      <td>0.480962</td>\n      <td>2.407443</td>\n    </tr>\n    <tr>\n      <th>9</th>\n      <td>9.018036</td>\n      <td>0.541082</td>\n      <td>3.219337</td>\n    </tr>\n    <tr>\n      <th>10</th>\n      <td>10.020040</td>\n      <td>0.601202</td>\n      <td>4.164900</td>\n    </tr>\n    <tr>\n      <th>11</th>\n      <td>11.022044</td>\n      <td>0.661323</td>\n      <td>5.247947</td>\n    </tr>\n    <tr>\n      <th>12</th>\n      <td>12.024048</td>\n      <td>0.721443</td>\n      <td>6.471929</td>\n    </tr>\n    <tr>\n      <th>13</th>\n      <td>13.026052</td>\n      <td>0.781563</td>\n      <td>7.839995</td>\n    </tr>\n    <tr>\n      <th>14</th>\n      <td>14.028056</td>\n      <td>0.841683</td>\n      <td>9.355040</td>\n    </tr>\n    <tr>\n      <th>15</th>\n      <td>15.030060</td>\n      <td>0.901804</td>\n      <td>11.019746</td>\n    </tr>\n    <tr>\n      <th>16</th>\n      <td>16.032064</td>\n      <td>0.961924</td>\n      <td>12.836609</td>\n    </tr>\n    <tr>\n      <th>17</th>\n      <td>17.034068</td>\n      <td>1.022044</td>\n      <td>14.807963</td>\n    </tr>\n    <tr>\n      <th>18</th>\n      <td>18.036072</td>\n      <td>1.082164</td>\n      <td>16.936000</td>\n    </tr>\n    <tr>\n      <th>19</th>\n      <td>19.038076</td>\n      <td>1.142285</td>\n      <td>19.222788</td>\n    </tr>\n    <tr>\n      <th>20</th>\n      <td>20.040080</td>\n      <td>1.202405</td>\n      <td>21.670281</td>\n    </tr>\n    <tr>\n      <th>21</th>\n      <td>21.042084</td>\n      <td>1.262525</td>\n      <td>24.280335</td>\n    </tr>\n    <tr>\n      <th>22</th>\n      <td>22.044088</td>\n      <td>1.322645</td>\n      <td>27.054714</td>\n    </tr>\n    <tr>\n      <th>23</th>\n      <td>23.046092</td>\n      <td>1.382766</td>\n      <td>29.995099</td>\n    </tr>\n    <tr>\n      <th>24</th>\n      <td>24.048096</td>\n      <td>1.442886</td>\n      <td>33.103099</td>\n    </tr>\n    <tr>\n      <th>25</th>\n      <td>25.050100</td>\n      <td>1.503006</td>\n      <td>36.380251</td>\n    </tr>\n    <tr>\n      <th>26</th>\n      <td>26.052104</td>\n      <td>1.563126</td>\n      <td>39.828032</td>\n    </tr>\n    <tr>\n      <th>27</th>\n      <td>27.054108</td>\n      <td>1.623246</td>\n      <td>43.447859</td>\n    </tr>\n    <tr>\n      <th>28</th>\n      <td>28.056112</td>\n      <td>1.683367</td>\n      <td>47.241098</td>\n    </tr>\n    <tr>\n      <th>29</th>\n      <td>29.058116</td>\n      <td>1.743487</td>\n      <td>51.209062</td>\n    </tr>\n  </tbody>\n</table>\n</div>"
     },
     "execution_count": 31,
     "metadata": {},
     "output_type": "execute_result"
    }
   ],
   "source": [
    "df = pd.DataFrame({\"x1\": np.linspace(0, 500, 500),\n",
    "                  \"x2\": np.linspace(0, 30, 500)})\n",
    "\n",
    "# y = np.cos(x1) * np.power(x2, 3)\n",
    "df.insert(loc=len(df.columns), column='y', value=5 * np.log(df['x1']) * np.power(df['x2'], 2))\n",
    "df.head(30)"
   ],
   "metadata": {
    "collapsed": false,
    "pycharm": {
     "name": "#%%\n"
    }
   }
  },
  {
   "cell_type": "code",
   "execution_count": 32,
   "outputs": [],
   "source": [
    "df.to_csv(\"out.csv\",index=False)"
   ],
   "metadata": {
    "collapsed": false,
    "pycharm": {
     "name": "#%%\n"
    }
   }
  },
  {
   "cell_type": "code",
   "execution_count": 33,
   "outputs": [
    {
     "data": {
      "text/plain": "[<matplotlib.lines.Line2D at 0x1e4aed92a70>]"
     },
     "execution_count": 33,
     "metadata": {},
     "output_type": "execute_result"
    },
    {
     "data": {
      "text/plain": "<Figure size 640x480 with 1 Axes>",
      "image/png": "[encoded data removed]"
     },
     "metadata": {},
     "output_type": "display_data"
    }
   ],
   "source": [
    "df.plot(x = 'x1', y = 'y', )\n",
    "plt.plot(df['x1'], df['y'], 'ro' )"
   ],
   "metadata": {
    "collapsed": false,
    "pycharm": {
     "name": "#%%\n"
    }
   }
  },
  {
   "cell_type": "code",
   "execution_count": 34,
   "outputs": [
    {
     "data": {
      "text/plain": "<AxesSubplot: xlabel='x2'>"
     },
     "execution_count": 34,
     "metadata": {},
     "output_type": "execute_result"
    },
    {
     "data": {
      "text/plain": "<Figure size 640x480 with 1 Axes>",
      "image/png": "[encoded data removed]"
     },
     "metadata": {},
     "output_type": "display_data"
    }
   ],
   "source": [
    "df.plot(x = 'x2', y = 'y')"
   ],
   "metadata": {
    "collapsed": false,
    "pycharm": {
     "name": "#%%\n"
    }
   }
  },
  {
   "cell_type": "code",
   "execution_count": 35,
   "outputs": [
    {
     "data": {
      "text/plain": "               x1          x2             y\ncount  500.000000  500.000000    499.000000\nmean   250.000000   15.000000   8849.954153\nstd    144.771376    8.686283   8323.144680\nmin      0.000000    0.000000      0.000036\n25%    125.000000    7.500000   1376.075306\n50%    250.000000   15.000000   6238.826135\n75%    375.000000   22.500000  15024.307795\nmax    500.000000   30.000000  27965.736443",
      "text/html": "<div>\n<style scoped>\n    .dataframe tbody tr th:only-of-type {\n        vertical-align: middle;\n    }\n\n    .dataframe tbody tr th {\n        vertical-align: top;\n    }\n\n    .dataframe thead th {\n        text-align: right;\n    }\n</style>\n<table border=\"1\" class=\"dataframe\">\n  <thead>\n    <tr style=\"text-align: right;\">\n      <th></th>\n      <th>x1</th>\n      <th>x2</th>\n      <th>y</th>\n    </tr>\n  </thead>\n  <tbody>\n    <tr>\n      <th>count</th>\n      <td>500.000000</td>\n      <td>500.000000</td>\n      <td>499.000000</td>\n    </tr>\n    <tr>\n      <th>mean</th>\n      <td>250.000000</td>\n      <td>15.000000</td>\n      <td>8849.954153</td>\n    </tr>\n    <tr>\n      <th>std</th>\n      <td>144.771376</td>\n      <td>8.686283</td>\n      <td>8323.144680</td>\n    </tr>\n    <tr>\n      <th>min</th>\n      <td>0.000000</td>\n      <td>0.000000</td>\n      <td>0.000036</td>\n    </tr>\n    <tr>\n      <th>25%</th>\n      <td>125.000000</td>\n      <td>7.500000</td>\n      <td>1376.075306</td>\n    </tr>\n    <tr>\n      <th>50%</th>\n      <td>250.000000</td>\n      <td>15.000000</td>\n      <td>6238.826135</td>\n    </tr>\n    <tr>\n      <th>75%</th>\n      <td>375.000000</td>\n      <td>22.500000</td>\n      <td>15024.307795</td>\n    </tr>\n    <tr>\n      <th>max</th>\n      <td>500.000000</td>\n      <td>30.000000</td>\n      <td>27965.736443</td>\n    </tr>\n  </tbody>\n</table>\n</div>"
     },
     "execution_count": 35,
     "metadata": {},
     "output_type": "execute_result"
    }
   ],
   "source": [
    "df.describe()"
   ],
   "metadata": {
    "collapsed": false,
    "pycharm": {
     "name": "#%%\n"
    }
   }
  },
  {
   "cell_type": "code",
   "execution_count": 36,
   "outputs": [],
   "source": [
    "parsed_df = df[df['x1'] < df['x1'].mean()]\n",
    "parsed_df.to_csv(\"out_parsed.csv\",index=False)"
   ],
   "metadata": {
    "collapsed": false,
    "pycharm": {
     "name": "#%%\n"
    }
   }
  },
  {
   "cell_type": "code",
   "execution_count": 37,
   "outputs": [],
   "source": [
    "from mpl_toolkits.mplot3d import Axes3D\n",
    "from matplotlib import cm"
   ],
   "metadata": {
    "collapsed": false,
    "pycharm": {
     "name": "#%%\n"
    }
   }
  },
  {
   "cell_type": "code",
   "execution_count": 38,
   "outputs": [
    {
     "name": "stderr",
     "output_type": "stream",
     "text": [
      "C:\\Users\\Ved\\AppData\\Local\\Temp\\ipykernel_12216\\2603904239.py:6: RuntimeWarning: divide by zero encountered in log\n",
      "  z = 5 * np.log(x1) * np.power(x2, 2)\n",
      "C:\\Users\\Ved\\AppData\\Local\\Temp\\ipykernel_12216\\2603904239.py:6: RuntimeWarning: invalid value encountered in multiply\n",
      "  z = 5 * np.log(x1) * np.power(x2, 2)\n"
     ]
    }
   ],
   "source": [
    "x1 = np.append(0,np.array(df['x1']).flatten())\n",
    "x2 = np.append(0,np.array(df['x2']).flatten())\n",
    "\n",
    "x1,x2 = np.meshgrid(x1,x2) #This is what you were missing\n",
    "\n",
    "z = 5 * np.log(x1) * np.power(x2, 2)"
   ],
   "metadata": {
    "collapsed": false,
    "pycharm": {
     "name": "#%%\n"
    }
   }
  },
  {
   "cell_type": "code",
   "execution_count": 39,
   "outputs": [
    {
     "ename": "ValueError",
     "evalue": "x and y must be equal-length 1D arrays, but found shapes (501, 501) and (501, 501)",
     "output_type": "error",
     "traceback": [
      "\u001B[1;31m---------------------------------------------------------------------------\u001B[0m",
      "\u001B[1;31mValueError\u001B[0m                                Traceback (most recent call last)",
      "Cell \u001B[1;32mIn[39], line 3\u001B[0m\n\u001B[0;32m      1\u001B[0m fig \u001B[38;5;241m=\u001B[39m plt\u001B[38;5;241m.\u001B[39mfigure()\n\u001B[0;32m      2\u001B[0m ax \u001B[38;5;241m=\u001B[39m Axes3D(fig)\n\u001B[1;32m----> 3\u001B[0m surf \u001B[38;5;241m=\u001B[39m \u001B[43max\u001B[49m\u001B[38;5;241;43m.\u001B[39;49m\u001B[43mplot_trisurf\u001B[49m\u001B[43m(\u001B[49m\u001B[43mx1\u001B[49m\u001B[43m,\u001B[49m\u001B[43m \u001B[49m\u001B[43mx2\u001B[49m\u001B[43m,\u001B[49m\u001B[43m \u001B[49m\u001B[43mz\u001B[49m\u001B[43m,\u001B[49m\u001B[43m \u001B[49m\u001B[43mcmap\u001B[49m\u001B[38;5;241;43m=\u001B[39;49m\u001B[43mcm\u001B[49m\u001B[38;5;241;43m.\u001B[39;49m\u001B[43mjet\u001B[49m\u001B[43m,\u001B[49m\u001B[43m \u001B[49m\u001B[43mlinewidth\u001B[49m\u001B[38;5;241;43m=\u001B[39;49m\u001B[38;5;241;43m0.1\u001B[39;49m\u001B[43m)\u001B[49m\n\u001B[0;32m      4\u001B[0m fig\u001B[38;5;241m.\u001B[39mcolorbar(surf, shrink\u001B[38;5;241m=\u001B[39m\u001B[38;5;241m0.5\u001B[39m, aspect\u001B[38;5;241m=\u001B[39m\u001B[38;5;241m5\u001B[39m)\n\u001B[0;32m      5\u001B[0m plt\u001B[38;5;241m.\u001B[39msavefig(\u001B[38;5;124m'\u001B[39m\u001B[38;5;124mteste.pdf\u001B[39m\u001B[38;5;124m'\u001B[39m)\n",
      "File \u001B[1;32m~\\AppData\\Local\\pypoetry\\Cache\\virtualenvs\\ml-course-ru-LtUHDCLA-py3.10\\lib\\site-packages\\mpl_toolkits\\mplot3d\\axes3d.py:1770\u001B[0m, in \u001B[0;36mAxes3D.plot_trisurf\u001B[1;34m(self, color, norm, vmin, vmax, lightsource, *args, **kwargs)\u001B[0m\n\u001B[0;32m   1766\u001B[0m cmap \u001B[38;5;241m=\u001B[39m kwargs\u001B[38;5;241m.\u001B[39mget(\u001B[38;5;124m'\u001B[39m\u001B[38;5;124mcmap\u001B[39m\u001B[38;5;124m'\u001B[39m, \u001B[38;5;28;01mNone\u001B[39;00m)\n\u001B[0;32m   1767\u001B[0m shade \u001B[38;5;241m=\u001B[39m kwargs\u001B[38;5;241m.\u001B[39mpop(\u001B[38;5;124m'\u001B[39m\u001B[38;5;124mshade\u001B[39m\u001B[38;5;124m'\u001B[39m, cmap \u001B[38;5;129;01mis\u001B[39;00m \u001B[38;5;28;01mNone\u001B[39;00m)\n\u001B[0;32m   1769\u001B[0m tri, args, kwargs \u001B[38;5;241m=\u001B[39m \\\n\u001B[1;32m-> 1770\u001B[0m     Triangulation\u001B[38;5;241m.\u001B[39mget_from_args_and_kwargs(\u001B[38;5;241m*\u001B[39margs, \u001B[38;5;241m*\u001B[39m\u001B[38;5;241m*\u001B[39mkwargs)\n\u001B[0;32m   1771\u001B[0m \u001B[38;5;28;01mtry\u001B[39;00m:\n\u001B[0;32m   1772\u001B[0m     z \u001B[38;5;241m=\u001B[39m kwargs\u001B[38;5;241m.\u001B[39mpop(\u001B[38;5;124m'\u001B[39m\u001B[38;5;124mZ\u001B[39m\u001B[38;5;124m'\u001B[39m)\n",
      "File \u001B[1;32m~\\AppData\\Local\\pypoetry\\Cache\\virtualenvs\\ml-course-ru-LtUHDCLA-py3.10\\lib\\site-packages\\matplotlib\\tri\\triangulation.py:161\u001B[0m, in \u001B[0;36mTriangulation.get_from_args_and_kwargs\u001B[1;34m(*args, **kwargs)\u001B[0m\n\u001B[0;32m    158\u001B[0m \u001B[38;5;28;01melse\u001B[39;00m:\n\u001B[0;32m    159\u001B[0m     x, y, triangles, mask, args, kwargs \u001B[38;5;241m=\u001B[39m \\\n\u001B[0;32m    160\u001B[0m         Triangulation\u001B[38;5;241m.\u001B[39m_extract_triangulation_params(args, kwargs)\n\u001B[1;32m--> 161\u001B[0m     triangulation \u001B[38;5;241m=\u001B[39m \u001B[43mTriangulation\u001B[49m\u001B[43m(\u001B[49m\u001B[43mx\u001B[49m\u001B[43m,\u001B[49m\u001B[43m \u001B[49m\u001B[43my\u001B[49m\u001B[43m,\u001B[49m\u001B[43m \u001B[49m\u001B[43mtriangles\u001B[49m\u001B[43m,\u001B[49m\u001B[43m \u001B[49m\u001B[43mmask\u001B[49m\u001B[43m)\u001B[49m\n\u001B[0;32m    162\u001B[0m \u001B[38;5;28;01mreturn\u001B[39;00m triangulation, args, kwargs\n",
      "File \u001B[1;32m~\\AppData\\Local\\pypoetry\\Cache\\virtualenvs\\ml-course-ru-LtUHDCLA-py3.10\\lib\\site-packages\\matplotlib\\tri\\triangulation.py:46\u001B[0m, in \u001B[0;36mTriangulation.__init__\u001B[1;34m(self, x, y, triangles, mask)\u001B[0m\n\u001B[0;32m     44\u001B[0m \u001B[38;5;28mself\u001B[39m\u001B[38;5;241m.\u001B[39my \u001B[38;5;241m=\u001B[39m np\u001B[38;5;241m.\u001B[39masarray(y, dtype\u001B[38;5;241m=\u001B[39mnp\u001B[38;5;241m.\u001B[39mfloat64)\n\u001B[0;32m     45\u001B[0m \u001B[38;5;28;01mif\u001B[39;00m \u001B[38;5;28mself\u001B[39m\u001B[38;5;241m.\u001B[39mx\u001B[38;5;241m.\u001B[39mshape \u001B[38;5;241m!=\u001B[39m \u001B[38;5;28mself\u001B[39m\u001B[38;5;241m.\u001B[39my\u001B[38;5;241m.\u001B[39mshape \u001B[38;5;129;01mor\u001B[39;00m \u001B[38;5;28mself\u001B[39m\u001B[38;5;241m.\u001B[39mx\u001B[38;5;241m.\u001B[39mndim \u001B[38;5;241m!=\u001B[39m \u001B[38;5;241m1\u001B[39m:\n\u001B[1;32m---> 46\u001B[0m     \u001B[38;5;28;01mraise\u001B[39;00m \u001B[38;5;167;01mValueError\u001B[39;00m(\u001B[38;5;124m\"\u001B[39m\u001B[38;5;124mx and y must be equal-length 1D arrays, but \u001B[39m\u001B[38;5;124m\"\u001B[39m\n\u001B[0;32m     47\u001B[0m                      \u001B[38;5;124mf\u001B[39m\u001B[38;5;124m\"\u001B[39m\u001B[38;5;124mfound shapes \u001B[39m\u001B[38;5;132;01m{\u001B[39;00m\u001B[38;5;28mself\u001B[39m\u001B[38;5;241m.\u001B[39mx\u001B[38;5;241m.\u001B[39mshape\u001B[38;5;132;01m!r}\u001B[39;00m\u001B[38;5;124m and \u001B[39m\u001B[38;5;124m\"\u001B[39m\n\u001B[0;32m     48\u001B[0m                      \u001B[38;5;124mf\u001B[39m\u001B[38;5;124m\"\u001B[39m\u001B[38;5;132;01m{\u001B[39;00m\u001B[38;5;28mself\u001B[39m\u001B[38;5;241m.\u001B[39my\u001B[38;5;241m.\u001B[39mshape\u001B[38;5;132;01m!r}\u001B[39;00m\u001B[38;5;124m\"\u001B[39m)\n\u001B[0;32m     50\u001B[0m \u001B[38;5;28mself\u001B[39m\u001B[38;5;241m.\u001B[39mmask \u001B[38;5;241m=\u001B[39m \u001B[38;5;28;01mNone\u001B[39;00m\n\u001B[0;32m     51\u001B[0m \u001B[38;5;28mself\u001B[39m\u001B[38;5;241m.\u001B[39m_edges \u001B[38;5;241m=\u001B[39m \u001B[38;5;28;01mNone\u001B[39;00m\n",
      "\u001B[1;31mValueError\u001B[0m: x and y must be equal-length 1D arrays, but found shapes (501, 501) and (501, 501)"
     ]
    },
    {
     "data": {
      "text/plain": "<Figure size 640x480 with 0 Axes>"
     },
     "metadata": {},
     "output_type": "display_data"
    }
   ],
   "source": [
    "fig = plt.figure()\n",
    "ax = Axes3D(fig)\n",
    "surf = ax.plot_trisurf(x1, x2, z, cmap=cm.jet, linewidth=0.1)\n",
    "fig.colorbar(surf, shrink=0.5, aspect=5)\n",
    "plt.savefig('teste.pdf')\n",
    "plt.show()"
   ],
   "metadata": {
    "collapsed": false,
    "pycharm": {
     "name": "#%%\n"
    }
   }
  },
  {
   "cell_type": "code",
   "execution_count": null,
   "outputs": [],
   "source": [
    "ax.scatter(df['x1'], df['x2'], df['y'])"
   ],
   "metadata": {
    "collapsed": false,
    "pycharm": {
     "name": "#%%\n"
    }
   }
  },
  {
   "cell_type": "code",
   "execution_count": null,
   "outputs": [],
   "source": [],
   "metadata": {
    "collapsed": false,
    "pycharm": {
     "name": "#%%\n"
    }
   }
  }
 ],
 "metadata": {
  "kernelspec": {
   "display_name": "Python 3",
   "language": "python",
   "name": "python3"
  },
  "language_info": {
   "codemirror_mode": {
    "name": "ipython",
    "version": 3
   },
   "file_extension": ".py",
   "mimetype": "text/x-python",
   "name": "python",
   "nbconvert_exporter": "python",
   "pygments_lexer": "ipython3",
   "version": "3.6.8"
  }
 },
 "nbformat": 4,
 "nbformat_minor": 4
}