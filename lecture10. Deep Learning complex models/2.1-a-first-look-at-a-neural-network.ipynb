{
 "cells": [
  {
   "cell_type": "code",
   "execution_count": 1,
   "metadata": {},
   "outputs": [
    {
     "ename": "ModuleNotFoundError",
     "evalue": "No module named 'keras'",
     "output_type": "error",
     "traceback": [
      "\u001b[0;31m---------------------------------------------------------------------------\u001b[0m",
      "\u001b[0;31mModuleNotFoundError\u001b[0m                       Traceback (most recent call last)",
      "\u001b[0;32m<ipython-input-1-98cd3281928c>\u001b[0m in \u001b[0;36m<module>\u001b[0;34m\u001b[0m\n\u001b[0;32m----> 1\u001b[0;31m \u001b[0;32mimport\u001b[0m \u001b[0mkeras\u001b[0m\u001b[0;34m\u001b[0m\u001b[0;34m\u001b[0m\u001b[0m\n\u001b[0m\u001b[1;32m      2\u001b[0m \u001b[0mkeras\u001b[0m\u001b[0;34m.\u001b[0m\u001b[0m__version__\u001b[0m\u001b[0;34m\u001b[0m\u001b[0;34m\u001b[0m\u001b[0m\n",
      "\u001b[0;31mModuleNotFoundError\u001b[0m: No module named 'keras'"
     ]
    }
   ],
   "source": [
    "import keras\n",
    "keras.__version__"
   ]
  },
  {
   "cell_type": "markdown",
   "metadata": {},
   "source": [
    "# Первый взгляд на нейронную сеть\n",
    "\n",
    "Здесь содержатся примеры кода, приведенные в разделе 1 главы 2 [Deep Learning with Python](https://www.manning.com/books/deep-learning-with-python?a_aid=keras&a_bid=76564dff). Обратите внимание, что оригинальный текст содержит гораздо больше контента, в частности, дополнительные пояснения и рисунки: в этом блоке статей вы найдете только исходный код и соответствующие комментарии.\n",
    "\n",
    "----\n",
    "\n",
    "Давайте рассмотрим наш первый конкретный пример нейронной сети, которая использует библиотеку Python Keras, чтобы научиться распозновать\n",
    "рукописные цифры. Если у вас еще нет опыта работы с Keras или подобными библиотеками, вы не сразу поймете содержание данного примера. Возможно, вы еще даже не установили Keras. Не волнуйтесь, это нормально. В следующей главе мы\n",
    "рассмотрим каждый элемент в нашем примере и объясним их подробно. Так что не волнуйтесь, если некоторые шаги кажутся вам непонятными!\n",
    "Должны же мы откуда то начать.\n",
    "\n",
    "Проблема, которую мы пытаемся решить, состоит в том, чтобы классифицировать серые цифры, написанные от руки (28 на 28 пикселей), (от 0 до 9). Набор данных, который мы будем использовать, - это набор данных MNIST, классический набор данных в сообществе машинного обучения, который используется почти столько же времени, сколько сама коцепция МО и очень интенсивно изучается. Это набор из 60000 тренировочных образцов, плюс 10000 тестовых\n",
    "изображения, собранные Национальным Институтом Стандартов и Технологий (NIST в MNIST) в 1980-х годах. Вы можете рассматривать «решение» MNIST как «Hello World» в мире Deep Learning - это то, что вы делаете, чтобы убедиться, что ваши алгоритмы работают должным образом. Как вы углубитесь в МО, вы увидите, что MNIST снова и снова появляется в научных статьях, сообщениях в блогах и так далее."
   ]
  },
  {
   "cell_type": "markdown",
   "metadata": {},
   "source": [
    "Набор данных MNIST предоставляется в Keras в виде набора из четырех массивов Numpy:"
   ]
  },
  {
   "cell_type": "code",
   "execution_count": 2,
   "metadata": {
    "collapsed": true
   },
   "outputs": [],
   "source": [
    "from keras.datasets import mnist\n",
    "\n",
    "(train_images, train_labels), (test_images, test_labels) = mnist.load_data()"
   ]
  },
  {
   "cell_type": "markdown",
   "metadata": {},
   "source": [
    "`train_images` и `train_labels` образуют тренировочный сет, данные, на которых будет обучаться сеть. Затем модель будет проверена с помощью \"тестового сета\", `test_images` и `test_labels`. Наши изображения кодируются как массивы Numpy, а метки представляют собой просто массив цифр, начиная с\n",
    "от 0 до 9. Между изображениями и надписями существует однозначное соответствие.\n",
    "\n",
    "Давайте посмотрим на данные обучения:"
   ]
  },
  {
   "cell_type": "code",
   "execution_count": 3,
   "metadata": {},
   "outputs": [
    {
     "data": {
      "text/plain": [
       "(60000, 28, 28)"
      ]
     },
     "execution_count": 3,
     "metadata": {},
     "output_type": "execute_result"
    }
   ],
   "source": [
    "train_images.shape"
   ]
  },
  {
   "cell_type": "code",
   "execution_count": 4,
   "metadata": {},
   "outputs": [
    {
     "data": {
      "text/plain": [
       "60000"
      ]
     },
     "execution_count": 4,
     "metadata": {},
     "output_type": "execute_result"
    }
   ],
   "source": [
    "len(train_labels)"
   ]
  },
  {
   "cell_type": "code",
   "execution_count": 5,
   "metadata": {},
   "outputs": [
    {
     "data": {
      "text/plain": [
       "array([5, 0, 4, ..., 5, 6, 8], dtype=uint8)"
      ]
     },
     "execution_count": 5,
     "metadata": {},
     "output_type": "execute_result"
    }
   ],
   "source": [
    "train_labels"
   ]
  },
  {
   "cell_type": "markdown",
   "metadata": {},
   "source": [
    "Взглянем на тестовые данные:"
   ]
  },
  {
   "cell_type": "code",
   "execution_count": 6,
   "metadata": {},
   "outputs": [
    {
     "data": {
      "text/plain": [
       "(10000, 28, 28)"
      ]
     },
     "execution_count": 6,
     "metadata": {},
     "output_type": "execute_result"
    }
   ],
   "source": [
    "test_images.shape"
   ]
  },
  {
   "cell_type": "code",
   "execution_count": 7,
   "metadata": {},
   "outputs": [
    {
     "data": {
      "text/plain": [
       "10000"
      ]
     },
     "execution_count": 7,
     "metadata": {},
     "output_type": "execute_result"
    }
   ],
   "source": [
    "len(test_labels)"
   ]
  },
  {
   "cell_type": "code",
   "execution_count": 8,
   "metadata": {},
   "outputs": [
    {
     "data": {
      "text/plain": [
       "array([7, 2, 1, ..., 4, 5, 6], dtype=uint8)"
      ]
     },
     "execution_count": 8,
     "metadata": {},
     "output_type": "execute_result"
    }
   ],
   "source": [
    "test_labels"
   ]
  },
  {
   "cell_type": "markdown",
   "metadata": {},
   "source": [
    "\n",
    "Наш рабочий процесс будет следующим: сначала мы представим нашу нейронную сеть с данными обучения, `train_images` и `train_labels`. Затем сеть научится связывать изображения и метки. Наконец, мы попросим сеть подготовить прогнозы для `test_images` и проверим, соответствуют ли эти прогнозы меткам из `test_labels`.\n",
    "\n",
    "Что ж, давайте создадим нашу сеть - опять же, не забывайте, что вы пока можете понимать не все, описанное в этом примере. Это нормально."
   ]
  },
  {
   "cell_type": "code",
   "execution_count": 9,
   "metadata": {
    "collapsed": true
   },
   "outputs": [],
   "source": [
    "from keras import models\n",
    "from keras import layers\n",
    "\n",
    "network = models.Sequential()\n",
    "network.add(layers.Dense(512, activation='relu', input_shape=(28 * 28,)))\n",
    "network.add(layers.Dense(10, activation='softmax'))"
   ]
  },
  {
   "cell_type": "markdown",
   "metadata": {},
   "source": [
    "\n",
    "Основным строительным блоком нейронных сетей является «слой», модуль обработки данных, который вы можете представить как «фильтр» для данных. Данные приходят и выходят из них в более полезной форме. Именно слои извлекают представления из данных полученных ими - они более значимы для рассматриваемой проблемы. Большая часть машинного обучения на самом деле состоит из объединения простых слоев, которые  реализуют форму прогрессивной «дистилляции данных». Модель глубокого обучения подобна решетке для обработки данных, состоящей из последовательности все более совершенных фильтров данных - «слоев».\n",
    "\n",
    "Наша сеть состоит из последовательности двух `Dense` слоев, которые являются плотно связанными (также называемыми «полностью связанными») нейронными слоями.\n",
    "Второй (и последний) уровень - это 10-слойный слой «softmax», он вернет массив из 10 вероятностных оценок. Каждая\n",
    "оценка - это вероятность того, что текущее цифровое изображение принадлежит одному из наших 10-значных классов.\n",
    "\n",
    "Чтобы подготовить нашу сеть к обучению, нам нужно добавить еще три момента в рамках этапа «компиляции»:\n",
    "\n",
    "* Функция потери: то, как сеть сможет измерить, насколько хорошо она выполняет свои учебные данные, и, таким образом, насколько правильно она выполнит задачи\n",
    "* Оптимизатор: это механизм, посредством которого сеть обновляет себя на основе данных, которые она принимает, и своей функции потери.\n",
    "* Метрики для мониторинга во время обучения и тестирования. Здесь мы будем заботиться только о точности (доля изображений, которые были правильно классифицированы).\n",
    "\n",
    "Назначение функции потери и оптимизатора будет описана в следующих двух главах."
   ]
  },
  {
   "cell_type": "code",
   "execution_count": 10,
   "metadata": {
    "collapsed": true
   },
   "outputs": [],
   "source": [
    "network.compile(optimizer='rmsprop',\n",
    "                loss='categorical_crossentropy',\n",
    "                metrics=['accuracy'])"
   ]
  },
  {
   "cell_type": "markdown",
   "metadata": {},
   "source": [
    "Перед обучением мы будем предварительно обрабатывать наши данные, преобразовывая их в форму, ожидаемую сетью, и масштабируя ее так, чтобы все значения находились в интервале [0, 1]. Ранее наши обучающие изображения, например, хранились в массиве фигур (60000, 28, 28) типа uint8 со значениями в интервале [0, 255]. Мы преобразуем его в массив типа float32 (60000, 28 * 28) со значениями от 0 до 1."
   ]
  },
  {
   "cell_type": "code",
   "execution_count": 11,
   "metadata": {
    "collapsed": true
   },
   "outputs": [],
   "source": [
    "train_images = train_images.reshape((60000, 28 * 28))\n",
    "train_images = train_images.astype('float32') / 255\n",
    "\n",
    "test_images = test_images.reshape((10000, 28 * 28))\n",
    "test_images = test_images.astype('float32') / 255"
   ]
  },
  {
   "cell_type": "markdown",
   "metadata": {},
   "source": [
    "Нам также необходимо кодировать метки, шаг, который мы объясним в главе 3:"
   ]
  },
  {
   "cell_type": "code",
   "execution_count": 12,
   "metadata": {
    "collapsed": true
   },
   "outputs": [],
   "source": [
    "from keras.utils import to_categorical\n",
    "\n",
    "train_labels = to_categorical(train_labels)\n",
    "test_labels = to_categorical(test_labels)"
   ]
  },
  {
   "cell_type": "markdown",
   "metadata": {},
   "source": [
    "Теперь мы готовы обучить нашу сеть, что в Keras осуществляется посредством вызова метода `fit` сети:"
   ]
  },
  {
   "cell_type": "code",
   "execution_count": 13,
   "metadata": {},
   "outputs": [
    {
     "name": "stdout",
     "output_type": "stream",
     "text": [
      "Epoch 1/5\n",
      "60000/60000 [==============================] - 2s - loss: 0.2577 - acc: 0.9245     \n",
      "Epoch 2/5\n",
      "60000/60000 [==============================] - 1s - loss: 0.1042 - acc: 0.9690     \n",
      "Epoch 3/5\n",
      "60000/60000 [==============================] - 1s - loss: 0.0687 - acc: 0.9793     \n",
      "Epoch 4/5\n",
      "60000/60000 [==============================] - 1s - loss: 0.0508 - acc: 0.9848     \n",
      "Epoch 5/5\n",
      "60000/60000 [==============================] - 1s - loss: 0.0382 - acc: 0.9890     \n"
     ]
    },
    {
     "data": {
      "text/plain": [
       "<keras.callbacks.History at 0x7fce5fed5fd0>"
      ]
     },
     "execution_count": 13,
     "metadata": {},
     "output_type": "execute_result"
    }
   ],
   "source": [
    "network.fit(train_images, train_labels, epochs=5, batch_size=128)"
   ]
  },
  {
   "cell_type": "markdown",
   "metadata": {},
   "source": [
    "Во время обучения отображаются две величины: «потеря» сетью части данных обучения и точность сети по сравнению с данными обучения.\n",
    "\n",
    "Мы быстро достигаем точности 0,989 (т. е. 98,9%) по данным обучения. Теперь давайте проверим, также ли хорошо модель работает на тестовом наборе:"
   ]
  },
  {
   "cell_type": "code",
   "execution_count": 14,
   "metadata": {},
   "outputs": [
    {
     "name": "stdout",
     "output_type": "stream",
     "text": [
      " 9536/10000 [===========================>..] - ETA: 0s"
     ]
    }
   ],
   "source": [
    "test_loss, test_acc = network.evaluate(test_images, test_labels)"
   ]
  },
  {
   "cell_type": "code",
   "execution_count": 15,
   "metadata": {},
   "outputs": [
    {
     "name": "stdout",
     "output_type": "stream",
     "text": [
      "test_acc: 0.9777\n"
     ]
    }
   ],
   "source": [
    "print('test_acc:', test_acc)"
   ]
  },
  {
   "cell_type": "markdown",
   "metadata": {},
   "source": [
    "\n",
    "Точность наших тестовых наборов составляет 97,8% - это немного ниже, чем точность тренировочных наборов.\n",
    "Этот разрыв между точностью обучения и точностью теста является примером \"переоснащения\",\n",
    "это факт, что модели машинного обучения имеют тенденцию работать хуже на новых данных, чем на их данных обучения.\n",
    "Переоснащение будет главной темой в главе 3.\n",
    "\n",
    "На этом мы завершаем наш самый первый пример - вы только что увидели, как мы можем построить и обучить нейронную сеть для классификации рукописных цифр в менее 20 строк кода Python. В следующей главе мы подробно рассмотрим каждую движущуюся часть, которую мы только что просмотрели, и выясним, что на самом деле происходит за кулисами. Вы узнаете о «тензорах», объектах хранения данных, поступающих в сеть, о тензорных операциях, где слои созаны с помощью градиентного спуска, что позволяет нашей сети учиться на примерах обучения."
   ]
  }
 ],
 "metadata": {
  "kernelspec": {
   "display_name": "Python 3",
   "language": "python",
   "name": "python3"
  },
  "language_info": {
   "codemirror_mode": {
    "name": "ipython",
    "version": 3
   },
   "file_extension": ".py",
   "mimetype": "text/x-python",
   "name": "python",
   "nbconvert_exporter": "python",
   "pygments_lexer": "ipython3",
   "version": "3.7.3"
  }
 },
 "nbformat": 4,
 "nbformat_minor": 2
}
